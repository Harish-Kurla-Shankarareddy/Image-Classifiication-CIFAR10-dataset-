{
  "nbformat": 4,
  "nbformat_minor": 0,
  "metadata": {
    "colab": {
      "name": "Cifar10_CNN",
      "provenance": [],
      "collapsed_sections": []
    },
    "kernelspec": {
      "name": "python3",
      "display_name": "Python 3"
    }
  },
  "cells": [
    {
      "cell_type": "code",
      "metadata": {
        "id": "fO9bOQn81u16"
      },
      "source": [
        "#Importing the Required Libraries\n",
        "import tensorflow as tf\n",
        "from keras.preprocessing.image import ImageDataGenerator\n",
        "import numpy as np"
      ],
      "execution_count": null,
      "outputs": []
    },
    {
      "cell_type": "code",
      "metadata": {
        "colab": {
          "base_uri": "https://localhost:8080/",
          "height": 35
        },
        "id": "9Yh82-xG2KOG",
        "outputId": "b9aba079-d9f6-453a-a281-00207d63a3c1"
      },
      "source": [
        "tf.__version__"
      ],
      "execution_count": null,
      "outputs": [
        {
          "output_type": "execute_result",
          "data": {
            "application/vnd.google.colaboratory.intrinsic+json": {
              "type": "string"
            },
            "text/plain": [
              "'2.4.0'"
            ]
          },
          "metadata": {
            "tags": []
          },
          "execution_count": 2
        }
      ]
    },
    {
      "cell_type": "code",
      "metadata": {
        "id": "WkTcA5Wv2S1L"
      },
      "source": [
        "#Importing and Preparing the Cifar-10 Dataset\n",
        "(x_train, y_train), (x_test, y_test) = tf.keras.datasets.cifar10.load_data()"
      ],
      "execution_count": null,
      "outputs": []
    },
    {
      "cell_type": "code",
      "metadata": {
        "colab": {
          "base_uri": "https://localhost:8080/"
        },
        "id": "4qY1TtJe2ye4",
        "outputId": "ecca2a96-9082-4bf1-db03-6e932bbbe2f4"
      },
      "source": [
        "x_train.shape"
      ],
      "execution_count": null,
      "outputs": [
        {
          "output_type": "execute_result",
          "data": {
            "text/plain": [
              "(50000, 32, 32, 3)"
            ]
          },
          "metadata": {
            "tags": []
          },
          "execution_count": 35
        }
      ]
    },
    {
      "cell_type": "code",
      "metadata": {
        "colab": {
          "base_uri": "https://localhost:8080/"
        },
        "id": "9ZkohMfJ3Z5D",
        "outputId": "b3a08cdb-e6be-4a94-9515-bdb4014fac39"
      },
      "source": [
        "x_test.shape"
      ],
      "execution_count": null,
      "outputs": [
        {
          "output_type": "execute_result",
          "data": {
            "text/plain": [
              "(10000, 32, 32, 3)"
            ]
          },
          "metadata": {
            "tags": []
          },
          "execution_count": 34
        }
      ]
    },
    {
      "cell_type": "code",
      "metadata": {
        "colab": {
          "base_uri": "https://localhost:8080/"
        },
        "id": "bPxWZkYNtKUN",
        "outputId": "e1e068f9-79eb-4658-efc2-9786ac45cfca"
      },
      "source": [
        "y_train.shape"
      ],
      "execution_count": null,
      "outputs": [
        {
          "output_type": "execute_result",
          "data": {
            "text/plain": [
              "(50000, 1)"
            ]
          },
          "metadata": {
            "tags": []
          },
          "execution_count": 36
        }
      ]
    },
    {
      "cell_type": "code",
      "metadata": {
        "id": "NkabJHqnwcVT",
        "colab": {
          "base_uri": "https://localhost:8080/"
        },
        "outputId": "e7fcb871-a729-44f5-9a7f-343a2a54ed44"
      },
      "source": [
        "# one hot encode outputs\n",
        "from keras.utils import np_utils\n",
        "Y_train = np_utils.to_categorical(y_train)\n",
        "Y_test = np_utils.to_categorical(y_test)\n",
        "num_classes = Y_test.shape[1]\n",
        "print(num_classes)"
      ],
      "execution_count": null,
      "outputs": [
        {
          "output_type": "stream",
          "text": [
            "10\n"
          ],
          "name": "stdout"
        }
      ]
    },
    {
      "cell_type": "code",
      "metadata": {
        "id": "JIOsbZPj5D3-"
      },
      "source": [
        "#normalizing inputs from 0-255 to 0.0-1.0 \n",
        "x_train = x_train.astype('float32')\n",
        "x_test = x_test.astype('float32')\n",
        "x_train /= 255\n",
        "x_test /= 255"
      ],
      "execution_count": null,
      "outputs": []
    },
    {
      "cell_type": "code",
      "metadata": {
        "id": "BxR2D98XR1vk"
      },
      "source": [
        "#Creating the Image Classification Model\n",
        "cnn = tf.keras.models.Sequential()"
      ],
      "execution_count": null,
      "outputs": []
    },
    {
      "cell_type": "code",
      "metadata": {
        "id": "cdwMr6iLR8fy"
      },
      "source": [
        "cnn.add(tf.keras.layers.Conv2D(filters = 64, kernel_size = 3, activation = 'relu', input_shape = (32, 32, 3)))"
      ],
      "execution_count": null,
      "outputs": []
    },
    {
      "cell_type": "code",
      "metadata": {
        "id": "aGTkjIIcSOYn"
      },
      "source": [
        "cnn.add(tf.keras.layers.MaxPool2D(pool_size = 2, strides = 1))"
      ],
      "execution_count": null,
      "outputs": []
    },
    {
      "cell_type": "code",
      "metadata": {
        "id": "HZpcXfMqSVcd"
      },
      "source": [
        "cnn.add(tf.keras.layers.Conv2D(filters = 64, kernel_size = 3, activation = 'relu'))\n",
        "cnn.add(tf.keras.layers.MaxPool2D(pool_size = 2, strides = 1))"
      ],
      "execution_count": null,
      "outputs": []
    },
    {
      "cell_type": "code",
      "metadata": {
        "id": "ExFPJs90SykZ"
      },
      "source": [
        "cnn.add(tf.keras.layers.Flatten())"
      ],
      "execution_count": null,
      "outputs": []
    },
    {
      "cell_type": "code",
      "metadata": {
        "id": "46Hk0lC_Evdw"
      },
      "source": [
        "cnn.add(tf.keras.layers.Dropout(0.2,noise_shape=None,seed=None))"
      ],
      "execution_count": null,
      "outputs": []
    },
    {
      "cell_type": "code",
      "metadata": {
        "id": "y-XBhaDgS8bX"
      },
      "source": [
        "cnn.add(tf.keras.layers.Dense(units = 128, activation = 'relu'))"
      ],
      "execution_count": null,
      "outputs": []
    },
    {
      "cell_type": "code",
      "metadata": {
        "id": "3mLbR_faTCDZ"
      },
      "source": [
        "cnn.add(tf.keras.layers.Dense(units = num_classes, activation = 'softmax'))"
      ],
      "execution_count": null,
      "outputs": []
    },
    {
      "cell_type": "code",
      "metadata": {
        "colab": {
          "base_uri": "https://localhost:8080/"
        },
        "id": "WZNNFl-2ThE7",
        "outputId": "e3251937-0098-48f3-af47-3e2cc67f352a"
      },
      "source": [
        "#Compiling the Model\n",
        "cnn.compile(optimizer = 'adam', loss = 'categorical_crossentropy', metrics = (['accuracy']))\n",
        "cnn.summary()"
      ],
      "execution_count": null,
      "outputs": [
        {
          "output_type": "stream",
          "text": [
            "Model: \"sequential_1\"\n",
            "_________________________________________________________________\n",
            "Layer (type)                 Output Shape              Param #   \n",
            "=================================================================\n",
            "conv2d_2 (Conv2D)            (None, 30, 30, 64)        1792      \n",
            "_________________________________________________________________\n",
            "max_pooling2d_2 (MaxPooling2 (None, 29, 29, 64)        0         \n",
            "_________________________________________________________________\n",
            "conv2d_3 (Conv2D)            (None, 27, 27, 64)        36928     \n",
            "_________________________________________________________________\n",
            "max_pooling2d_3 (MaxPooling2 (None, 26, 26, 64)        0         \n",
            "_________________________________________________________________\n",
            "flatten_1 (Flatten)          (None, 43264)             0         \n",
            "_________________________________________________________________\n",
            "dropout (Dropout)            (None, 43264)             0         \n",
            "_________________________________________________________________\n",
            "dense_2 (Dense)              (None, 128)               5537920   \n",
            "_________________________________________________________________\n",
            "dense_3 (Dense)              (None, 10)                1290      \n",
            "=================================================================\n",
            "Total params: 5,577,930\n",
            "Trainable params: 5,577,930\n",
            "Non-trainable params: 0\n",
            "_________________________________________________________________\n"
          ],
          "name": "stdout"
        }
      ]
    },
    {
      "cell_type": "code",
      "metadata": {
        "colab": {
          "base_uri": "https://localhost:8080/"
        },
        "id": "fuRT5GFRTxKL",
        "outputId": "ec0e718d-c8b1-4ac6-b91e-cc6dd843a103"
      },
      "source": [
        "#Training the Image Classification Model((\n",
        "cnn.fit(x_train, Y_train, epochs = 10, batch_size = 32, validation_data= (x_test, Y_test))"
      ],
      "execution_count": null,
      "outputs": [
        {
          "output_type": "stream",
          "text": [
            "Epoch 1/10\n",
            "1563/1563 [==============================] - 328s 210ms/step - loss: 1.3938 - accuracy: 0.4993 - val_loss: 1.2196 - val_accuracy: 0.5631\n",
            "Epoch 2/10\n",
            "1563/1563 [==============================] - 325s 208ms/step - loss: 1.0776 - accuracy: 0.6188 - val_loss: 1.0492 - val_accuracy: 0.6339\n",
            "Epoch 3/10\n",
            "1563/1563 [==============================] - 325s 208ms/step - loss: 0.9368 - accuracy: 0.6693 - val_loss: 0.9864 - val_accuracy: 0.6545\n",
            "Epoch 4/10\n",
            "1563/1563 [==============================] - 321s 206ms/step - loss: 0.8317 - accuracy: 0.7081 - val_loss: 0.9959 - val_accuracy: 0.6559\n",
            "Epoch 5/10\n",
            "1563/1563 [==============================] - 323s 206ms/step - loss: 0.7469 - accuracy: 0.7364 - val_loss: 0.9800 - val_accuracy: 0.6672\n",
            "Epoch 6/10\n",
            "1563/1563 [==============================] - 324s 207ms/step - loss: 0.6647 - accuracy: 0.7644 - val_loss: 1.0332 - val_accuracy: 0.6623\n",
            "Epoch 7/10\n",
            "1563/1563 [==============================] - 324s 207ms/step - loss: 0.5903 - accuracy: 0.7893 - val_loss: 1.0415 - val_accuracy: 0.6703\n",
            "Epoch 8/10\n",
            "1563/1563 [==============================] - 319s 204ms/step - loss: 0.5245 - accuracy: 0.8123 - val_loss: 1.1196 - val_accuracy: 0.6640\n",
            "Epoch 9/10\n",
            "1563/1563 [==============================] - 322s 206ms/step - loss: 0.4638 - accuracy: 0.8334 - val_loss: 1.2034 - val_accuracy: 0.6626\n",
            "Epoch 10/10\n",
            "1563/1563 [==============================] - 326s 208ms/step - loss: 0.4193 - accuracy: 0.8484 - val_loss: 1.2085 - val_accuracy: 0.6552\n"
          ],
          "name": "stdout"
        },
        {
          "output_type": "execute_result",
          "data": {
            "text/plain": [
              "<tensorflow.python.keras.callbacks.History at 0x7f23e95df0b8>"
            ]
          },
          "metadata": {
            "tags": []
          },
          "execution_count": 50
        }
      ]
    },
    {
      "cell_type": "code",
      "metadata": {
        "id": "trFDpBlwPQ-I"
      },
      "source": [
        "#To save the model\n",
        "from keras.models import load_model\n",
        "cnn.save('project_model.h5')"
      ],
      "execution_count": null,
      "outputs": []
    },
    {
      "cell_type": "code",
      "metadata": {
        "id": "edFtXYbEShgR"
      },
      "source": [
        "#loading the saved model \n",
        "from keras.models import load_model \n",
        "cnn = load_model('project_model.h5')"
      ],
      "execution_count": null,
      "outputs": []
    },
    {
      "cell_type": "code",
      "metadata": {
        "colab": {
          "base_uri": "https://localhost:8080/"
        },
        "id": "s3WiP-BbFGBQ",
        "outputId": "3f0abe22-d024-4210-a32e-09d848b557ef"
      },
      "source": [
        "test_loss, test_accuracy = cnn.evaluate(x_test, Y_test)"
      ],
      "execution_count": null,
      "outputs": [
        {
          "output_type": "stream",
          "text": [
            "313/313 [==============================] - 14s 45ms/step - loss: 1.2085 - accuracy: 0.6552\n"
          ],
          "name": "stdout"
        }
      ]
    },
    {
      "cell_type": "code",
      "metadata": {
        "id": "eK5pXhEp6R56"
      },
      "source": [
        "import numpy as np \n",
        "from keras.preprocessing import image\n",
        "# Give the link of the image here to test \n",
        "test_image =image.load_img('/content/pexels-kelson-downes-1149137.jpg',target_size =(32,32))"
      ],
      "execution_count": null,
      "outputs": []
    },
    {
      "cell_type": "code",
      "metadata": {
        "colab": {
          "base_uri": "https://localhost:8080/"
        },
        "id": "xUxfzY9C7GxC",
        "outputId": "faf12123-310c-416a-d28b-95c2a84ec0d9"
      },
      "source": [
        "test_image =image.img_to_array(test_image) \n",
        "test_image =np.expand_dims(test_image, axis =0) \n",
        "prediction = cnn.predict_classes(test_image) \n",
        "\n",
        "results = {\n",
        "    0: 'aeroplane',\n",
        "    1: 'automobile',\n",
        "}\n",
        "\n",
        "classes = results[prediction[0]]\n",
        "print(classes)\n"
      ],
      "execution_count": null,
      "outputs": [
        {
          "output_type": "stream",
          "text": [
            "aeroplane\n"
          ],
          "name": "stdout"
        },
        {
          "output_type": "stream",
          "text": [
            "/usr/local/lib/python3.6/dist-packages/tensorflow/python/keras/engine/sequential.py:450: UserWarning: `model.predict_classes()` is deprecated and will be removed after 2021-01-01. Please use instead:* `np.argmax(model.predict(x), axis=-1)`,   if your model does multi-class classification   (e.g. if it uses a `softmax` last-layer activation).* `(model.predict(x) > 0.5).astype(\"int32\")`,   if your model does binary classification   (e.g. if it uses a `sigmoid` last-layer activation).\n",
            "  warnings.warn('`model.predict_classes()` is deprecated and '\n"
          ],
          "name": "stderr"
        }
      ]
    }
  ]
}